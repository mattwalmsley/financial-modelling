{
 "cells": [
  {
   "cell_type": "markdown",
   "metadata": {},
   "source": [
    "# pyQuantLibrary\n",
    "\n",
    "Library built in C++ and exposed via Boost to python."
   ]
  },
  {
   "cell_type": "code",
   "execution_count": null,
   "metadata": {},
   "outputs": [],
   "source": [
    "import sys\n",
    "import pathlib\n",
    "import importlib\n",
    "\n",
    "# Add the build directory to the sys.path\n",
    "parent_path = pathlib.Path().resolve().parent.parent\n",
    "library_path = f'{parent_path}/QuantLibrary/cmake-build-debug/'\n",
    "sys.path.append(library_path)\n",
    "\n",
    "pql = importlib.import_module('pyquantlibrary')"
   ]
  },
  {
   "cell_type": "code",
   "execution_count": null,
   "metadata": {},
   "outputs": [],
   "source": [
    "# Create an instance of the Option class\n",
    "option = pql.Option(100.0, 1.0, 50.0)\n",
    "\n",
    "# Access methods from Option\n",
    "strike_price = option.getStrikePrice()\n",
    "expiration_time = option.getExpirationTime()\n",
    "underlying_price = option.getUnderlyingPrice()\n",
    "\n",
    "print(strike_price, expiration_time, underlying_price)\n",
    "\n",
    "# Create an instance of the BlackScholesModel class\n",
    "bs_model = pql.BlackScholesModel()\n",
    "\n",
    "# Calculate the price of an option using Black-Scholes\n",
    "price = bs_model.calculatePrice(option)\n",
    "print(f\"Option Price: {price}\")"
   ]
  },
  {
   "cell_type": "code",
   "execution_count": 1,
   "metadata": {},
   "outputs": [
    {
     "ename": "ModuleNotFoundError",
     "evalue": "No module named 'pyquantlibrary'",
     "output_type": "error",
     "traceback": [
      "\u001b[0;31m---------------------------------------------------------------------------\u001b[0m",
      "\u001b[0;31mModuleNotFoundError\u001b[0m                       Traceback (most recent call last)",
      "Cell \u001b[0;32mIn[1], line 1\u001b[0m\n\u001b[0;32m----> 1\u001b[0m \u001b[38;5;28;01mimport\u001b[39;00m\u001b[38;5;250m \u001b[39m\u001b[38;5;21;01mpyquantlibrary\u001b[39;00m\n",
      "\u001b[0;31mModuleNotFoundError\u001b[0m: No module named 'pyquantlibrary'"
     ]
    }
   ],
   "source": [
    "import pyquantlibrary"
   ]
  }
 ],
 "metadata": {
  "kernelspec": {
   "display_name": ".venv",
   "language": "python",
   "name": "python3"
  },
  "language_info": {
   "codemirror_mode": {
    "name": "ipython",
    "version": 3
   },
   "file_extension": ".py",
   "mimetype": "text/x-python",
   "name": "python",
   "nbconvert_exporter": "python",
   "pygments_lexer": "ipython3",
   "version": "3.12.3"
  }
 },
 "nbformat": 4,
 "nbformat_minor": 2
}
