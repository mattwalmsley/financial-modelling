{
 "cells": [
  {
   "cell_type": "markdown",
   "metadata": {},
   "source": [
    "# Introduction"
   ]
  },
  {
   "cell_type": "markdown",
   "metadata": {},
   "source": [
    "## Variables"
   ]
  },
  {
   "cell_type": "markdown",
   "metadata": {},
   "source": [
    "### Mutability"
   ]
  },
  {
   "cell_type": "code",
   "execution_count": 41,
   "metadata": {},
   "outputs": [
    {
     "name": "stdout",
     "output_type": "stream",
     "text": [
      "0xb35ac8\n",
      "0x7aeca80d8600\n"
     ]
    }
   ],
   "source": [
    "my_int = 10 # immutable\n",
    "my_list = [1, 2, 3] # mutable\n",
    "\n",
    "my_list_id = id(my_list)\n",
    "\n",
    "print(hex(id(my_int)))\n",
    "print(hex(my_list_id))"
   ]
  },
  {
   "cell_type": "code",
   "execution_count": 42,
   "metadata": {},
   "outputs": [],
   "source": [
    "my_int_too = my_int\n",
    "\n",
    "assert id(my_int_too) == id(my_int) # same memory address\n",
    "\n",
    "my_int_too = 20\n",
    "assert id(my_int_too) != id(my_int) # immutable types get new memory address\n",
    "\n",
    "my_list.append(4)\n",
    "assert id(my_list) == my_list_id # mutable types keep the same memory address\n",
    "\n",
    "my_list = [4, 5, 6]\n",
    "assert id(my_list) != my_list_id # new list, new memory address\n",
    "\n",
    "my_int_too = my_list # variable can be reassigned from immutable to mutable\n",
    "assert id(my_int_too) == id(my_list)"
   ]
  },
  {
   "cell_type": "markdown",
   "metadata": {},
   "source": [
    "### Integer Interning"
   ]
  },
  {
   "cell_type": "code",
   "execution_count": 8,
   "metadata": {},
   "outputs": [
    {
     "name": "stdout",
     "output_type": "stream",
     "text": [
      "False\n",
      "Int: 11754184\n",
      "Array: 136904165883776\n"
     ]
    }
   ],
   "source": [
    "my_int = 10\n",
    "my_array = [10, 20, 30]\n",
    "\n",
    "print(id(my_int) == id(my_array))\n",
    "print(f\"Int: {id(my_int)}\")\n",
    "print(f\"Array: {id(my_array)}\")"
   ]
  },
  {
   "cell_type": "code",
   "execution_count": 2,
   "metadata": {},
   "outputs": [
    {
     "name": "stdout",
     "output_type": "stream",
     "text": [
      "11758280 11758280 11758280 11758280\n"
     ]
    }
   ],
   "source": [
    "a = 10\n",
    "b = 10\n",
    "\n",
    "x = int(\"10\")\n",
    "y = int(\"10\")\n",
    "\n",
    "print(id(a), id(b), id(x), id(y)) # point to Singleton 10 integer object"
   ]
  },
  {
   "cell_type": "code",
   "execution_count": 7,
   "metadata": {},
   "outputs": [
    {
     "name": "stdout",
     "output_type": "stream",
     "text": [
      "10.0 10.0\n",
      "126656063300720 126656063059472\n",
      "<class 'float'> <class 'float'>\n",
      "11758280 11758280\n"
     ]
    }
   ],
   "source": [
    "def get_half(n: str) -> int:\n",
    "    return int(n) / 2\n",
    "\n",
    "x = get_half(\"20\")  # Created float from a string\n",
    "y = get_half(\"20\")  # Another float created from a string\n",
    "\n",
    "print(x,y) # 10.0 10.0 # Same values\n",
    "\n",
    "# Different memory addresses due to being floats\n",
    "print(id(x), id(y))  # Different memory addresses\n",
    "print(type(x), type(y))\n",
    "\n",
    "# converted to an int, will point to same memory address\n",
    "print(id(int(x)), id(int(y)))  # Same memory addresses\n"
   ]
  },
  {
   "cell_type": "markdown",
   "metadata": {},
   "source": [
    "### Peephole Optimisation"
   ]
  },
  {
   "cell_type": "code",
   "execution_count": 11,
   "metadata": {},
   "outputs": [
    {
     "data": {
      "text/plain": [
       "(None, (1, 2, 1, 2, 1, 2), 'abcabc', (1, 2, 3), frozenset({4, 5, 6}))"
      ]
     },
     "execution_count": 11,
     "metadata": {},
     "output_type": "execute_result"
    }
   ],
   "source": [
    "def my_func(e):\n",
    "    a = (1, 2) * 3 # will be expanded to (1, 2, 1, 2, 1, 2)\n",
    "    b = 'abc' * 2 # will be expanded to 'abcabc'\n",
    "    if e in [1, 2, 3]: # [1, 2, 3] will be converted to immutable (1, 2, 3)\n",
    "        pass\n",
    "    if e in {4, 5, 6}: # {4, 5, 6} will be converted to immutable frozenset({4, 5, 6})\n",
    "        pass\n",
    "\n",
    "my_func.__code__.co_consts # peephole optimisations"
   ]
  },
  {
   "cell_type": "markdown",
   "metadata": {},
   "source": [
    "### `None` Object"
   ]
  },
  {
   "cell_type": "code",
   "execution_count": 9,
   "metadata": {},
   "outputs": [
    {
     "name": "stdout",
     "output_type": "stream",
     "text": [
      "True\n",
      "Int (None): 10746016\n",
      "Array (None): 10746016\n"
     ]
    }
   ],
   "source": [
    "my_int = None\n",
    "my_array = None\n",
    "print(id(my_int) == id(my_array))\n",
    "print(f\"Int (None): {id(my_int)}\")\n",
    "print(f\"Array (None): {id(my_array)}\")"
   ]
  },
  {
   "cell_type": "code",
   "execution_count": 14,
   "metadata": {},
   "outputs": [
    {
     "name": "stdout",
     "output_type": "stream",
     "text": [
      "False\n",
      "False\n",
      "None evaluates to False in boolean context\n"
     ]
    }
   ],
   "source": [
    "print(None is False) # False\n",
    "print(None == False) # False\n",
    "if not None:\n",
    "    print(\"None evaluates to False in boolean context\")"
   ]
  },
  {
   "cell_type": "markdown",
   "metadata": {},
   "source": [
    "### Garbage Collection"
   ]
  },
  {
   "cell_type": "code",
   "execution_count": 26,
   "metadata": {},
   "outputs": [],
   "source": [
    "import ctypes\n",
    "import gc\n",
    "\n",
    "def ref_count(address):\n",
    "    return ctypes.c_long.from_address(address).value\n",
    "\n",
    "def object_by_id(object_id):\n",
    "    for obj in gc.get_objects():\n",
    "        if id(obj) == object_id:\n",
    "            return \"Object exists\"\n",
    "    return \"Not found\""
   ]
  },
  {
   "cell_type": "code",
   "execution_count": 27,
   "metadata": {},
   "outputs": [],
   "source": [
    "class A:\n",
    "    def __init__(self):\n",
    "        self.b = B(self)\n",
    "        print(f\"A: self: {hex(id(self))}, b: {hex(id(self.b))}\")\n",
    "\n",
    "class B:\n",
    "    def __init__(self, a):\n",
    "        self.a = a\n",
    "        print(f\"B: self: {hex(id(self))}, a: {hex(id(self.a))}\")"
   ]
  },
  {
   "cell_type": "code",
   "execution_count": 28,
   "metadata": {},
   "outputs": [
    {
     "name": "stdout",
     "output_type": "stream",
     "text": [
      "B: self: 0x7aeca8563080, a: 0x7aeca8562d80\n",
      "A: self: 0x7aeca8562d80, b: 0x7aeca8563080\n",
      "my_var: 0x7aeca8562d80\n",
      "my_var's b: 0x7aeca8563080\n",
      "my_var's b's a: 0x7aeca8562d80\n"
     ]
    }
   ],
   "source": [
    "gc.disable()\n",
    "\n",
    "my_var = A() # circular reference created\n",
    "\n",
    "print(f\"my_var: {hex(id(my_var))}\")\n",
    "print(f\"my_var's b: {hex(id(my_var.b))}\")\n",
    "print(f\"my_var's b's a: {hex(id(my_var.b.a))}\") # should be same memory as my_var\n",
    "\n",
    "a_id = id(my_var)\n",
    "b_id = id(my_var.b)"
   ]
  },
  {
   "cell_type": "code",
   "execution_count": 29,
   "metadata": {},
   "outputs": [],
   "source": [
    "assert ref_count(a_id) == 2\n",
    "assert ref_count(b_id) == 1\n",
    "\n",
    "assert object_by_id(a_id) == 'Object exists'\n",
    "assert object_by_id(b_id) == 'Object exists'"
   ]
  },
  {
   "cell_type": "code",
   "execution_count": 30,
   "metadata": {},
   "outputs": [],
   "source": [
    "my_var = None # destroy the reference\n",
    "\n",
    "# objects aren't deleted as the garbage collector is disabled\n",
    "assert ref_count(a_id) == 1\n",
    "assert ref_count(b_id) == 1\n",
    "assert object_by_id(a_id) == 'Object exists'\n",
    "assert object_by_id(b_id) == 'Object exists'"
   ]
  },
  {
   "cell_type": "code",
   "execution_count": 32,
   "metadata": {},
   "outputs": [
    {
     "name": "stdout",
     "output_type": "stream",
     "text": [
      "1\n",
      "11753828\n"
     ]
    }
   ],
   "source": [
    "gc.collect()\n",
    "assert object_by_id(a_id) == 'Not found'\n",
    "assert object_by_id(b_id) == 'Not found'\n",
    "\n",
    "print(ref_count(b_id)) # these memory addresses could be reassigned\n",
    "print(ref_count(a_id))"
   ]
  },
  {
   "cell_type": "markdown",
   "metadata": {},
   "source": [
    "## NumPy Arrays"
   ]
  },
  {
   "cell_type": "code",
   "execution_count": 39,
   "metadata": {},
   "outputs": [],
   "source": [
    "import numpy as np"
   ]
  },
  {
   "cell_type": "code",
   "execution_count": 3,
   "metadata": {},
   "outputs": [
    {
     "name": "stdout",
     "output_type": "stream",
     "text": [
      "[1 2 3 4 5] | type: <class 'numpy.ndarray'> : dtype: int64 | shape: (5,) | ndim: 1| size: 5\n",
      "[0:1]: [1]\n",
      "[1:2]: [2]\n",
      "[1:3]: [2 3]\n",
      "[:3]: [1 2 3]\n",
      "[2:]: [3 4 5]\n"
     ]
    }
   ],
   "source": [
    "# initialise a numpy array\n",
    "arr1 = np.array([1, 2, 3, 4, 5])\n",
    "print(f\"{arr1} | type: {type(arr1)} : dtype: {arr1.dtype} | shape: {arr1.shape} | ndim: {arr1.ndim}| size: {arr1.size}\")\n",
    "\n",
    "# slice arrays\n",
    "print(f\"[0:1]: {arr1[0:1]}\")\n",
    "print(f\"[1:2]: {arr1[1:2]}\")\n",
    "print(f\"[1:3]: {arr1[1:3]}\")\n",
    "print(f\"[:3]: {arr1[:3]}\")\n",
    "print(f\"[2:]: {arr1[2:]}\")"
   ]
  },
  {
   "cell_type": "code",
   "execution_count": 4,
   "metadata": {},
   "outputs": [
    {
     "name": "stdout",
     "output_type": "stream",
     "text": [
      "[0.5 1.  1.5 2.  2.5] | type: <class 'numpy.ndarray'> : dtype: float64 | shape: (5,) | ndim: 1| size: 5\n"
     ]
    }
   ],
   "source": [
    "# arrays must have homogenous dtypes so integers are converted to float\n",
    "arr2 = np.array([0.5, 1, 1.5, 2, 2.5])\n",
    "print(f\"{arr2} | type: {type(arr2)} : dtype: {arr2.dtype} | shape: {arr2.shape} | ndim: {arr2.ndim}| size: {arr2.size}\")"
   ]
  },
  {
   "cell_type": "code",
   "execution_count": 5,
   "metadata": {},
   "outputs": [
    {
     "name": "stdout",
     "output_type": "stream",
     "text": [
      "[[1 2 3]\n",
      " [4 5 6]\n",
      " [7 8 9]] | type: <class 'numpy.ndarray'> : dtype: int64 | shape: (3, 3) | ndim: 2| size: 9\n",
      "[1][2]: 6\n",
      "[0:2]: [[1 2 3]\n",
      " [4 5 6]]\n",
      "[0:2][1]: [4 5 6]\n",
      "[1][0:2]: [4 5]\n"
     ]
    }
   ],
   "source": [
    "# multi-dimensional arrays\n",
    "arr3 = np.array([[1, 2, 3], [4, 5, 6], [7, 8, 9]])\n",
    "print(f\"{arr3} | type: {type(arr3)} : dtype: {arr3.dtype} | shape: {arr3.shape} | ndim: {arr3.ndim}| size: {arr3.size}\")\n",
    "# index and slice multi-dimension arrays\n",
    "print(f\"[1][2]: {arr3[1][2]}\")\n",
    "print(f\"[0:2]: {arr3[0:2]}\")\n",
    "print(f\"[0:2][1]: {arr3[0:2][1]}\")\n",
    "print(f\"[1][0:2]: {arr3[1][0:2]}\")"
   ]
  },
  {
   "cell_type": "code",
   "execution_count": 6,
   "metadata": {},
   "outputs": [
    {
     "name": "stdout",
     "output_type": "stream",
     "text": [
      "[[1]\n",
      " [2]\n",
      " [3]\n",
      " [4]\n",
      " [5]] | type: <class 'numpy.ndarray'> : dtype: int64 | shape: (5, 1) | ndim: 2| size: 5\n"
     ]
    }
   ],
   "source": [
    "# reshaping arrays\n",
    "arr4 = arr1.reshape([5,1])\n",
    "print(f\"{arr4} | type: {type(arr4)} : dtype: {arr4.dtype} | shape: {arr4.shape} | ndim: {arr4.ndim}| size: {arr4.size}\")"
   ]
  },
  {
   "cell_type": "code",
   "execution_count": 7,
   "metadata": {},
   "outputs": [
    {
     "name": "stdout",
     "output_type": "stream",
     "text": [
      "[1 2 3 4 5]\n",
      "[0.5 1.  1.5 2.  2.5]\n",
      "Add: [1.5 3.  4.5 6.  7.5]\n",
      "Subtract: [0.5 1.  1.5 2.  2.5]\n",
      "Multiply: [ 0.5  2.   4.5  8.  12.5]\n",
      "Divide: [2. 2. 2. 2. 2.]\n"
     ]
    }
   ],
   "source": [
    "# operations on arrays\n",
    "print(arr1)\n",
    "print(arr2)\n",
    "\n",
    "print(f\"Add: {arr1 + arr2}\")\n",
    "print(f\"Subtract: {arr1 - arr2}\")\n",
    "print(f\"Multiply: {arr1 * arr2}\")\n",
    "print(f\"Divide: {arr1 / arr2}\")"
   ]
  },
  {
   "cell_type": "markdown",
   "metadata": {},
   "source": [
    "## Pandas"
   ]
  },
  {
   "cell_type": "code",
   "execution_count": 3,
   "metadata": {},
   "outputs": [],
   "source": [
    "import pandas as pd"
   ]
  },
  {
   "cell_type": "markdown",
   "metadata": {},
   "source": [
    "### Series"
   ]
  },
  {
   "cell_type": "code",
   "execution_count": 4,
   "metadata": {},
   "outputs": [
    {
     "data": {
      "text/plain": [
       "0     2\n",
       "1     3\n",
       "2     5\n",
       "3     7\n",
       "4    11\n",
       "5    13\n",
       "6    17\n",
       "7    19\n",
       "dtype: int64"
      ]
     },
     "execution_count": 4,
     "metadata": {},
     "output_type": "execute_result"
    }
   ],
   "source": [
    "primes = pd.Series([2, 3, 5, 7, 11, 13, 17, 19])\n",
    "primes"
   ]
  },
  {
   "cell_type": "code",
   "execution_count": 16,
   "metadata": {},
   "outputs": [
    {
     "name": "stdout",
     "output_type": "stream",
     "text": [
      "11\n"
     ]
    }
   ],
   "source": [
    "print(primes[4])"
   ]
  },
  {
   "cell_type": "code",
   "execution_count": 18,
   "metadata": {},
   "outputs": [
    {
     "name": "stdout",
     "output_type": "stream",
     "text": [
      "0    2\n",
      "1    3\n",
      "2    5\n",
      "3    7\n",
      "dtype: int64\n"
     ]
    }
   ],
   "source": [
    "print(primes[0:4])"
   ]
  },
  {
   "cell_type": "code",
   "execution_count": 28,
   "metadata": {},
   "outputs": [
    {
     "data": {
      "text/plain": [
       "0    False\n",
       "1    False\n",
       "2    False\n",
       "3    False\n",
       "4     True\n",
       "5     True\n",
       "6     True\n",
       "7     True\n",
       "dtype: bool"
      ]
     },
     "execution_count": 28,
     "metadata": {},
     "output_type": "execute_result"
    }
   ],
   "source": [
    "primes > 10"
   ]
  },
  {
   "cell_type": "code",
   "execution_count": 23,
   "metadata": {},
   "outputs": [
    {
     "data": {
      "text/plain": [
       "0    2\n",
       "1    2\n",
       "2    2\n",
       "3    2\n",
       "4    2\n",
       "5    2\n",
       "6    2\n",
       "7    2\n",
       "dtype: int64"
      ]
     },
     "execution_count": 23,
     "metadata": {},
     "output_type": "execute_result"
    }
   ],
   "source": [
    "factors = pd.Series([2, 2, 2, 2, 2, 2, 2, 2])\n",
    "factors"
   ]
  },
  {
   "cell_type": "code",
   "execution_count": 25,
   "metadata": {},
   "outputs": [
    {
     "data": {
      "text/plain": [
       "0     4\n",
       "1     5\n",
       "2     7\n",
       "3     9\n",
       "4    13\n",
       "5    15\n",
       "6    19\n",
       "7    21\n",
       "dtype: int64"
      ]
     },
     "execution_count": 25,
     "metadata": {},
     "output_type": "execute_result"
    }
   ],
   "source": [
    "primes + factors"
   ]
  },
  {
   "cell_type": "markdown",
   "metadata": {},
   "source": [
    "### Working with Financial Data"
   ]
  },
  {
   "cell_type": "code",
   "execution_count": 11,
   "metadata": {},
   "outputs": [
    {
     "name": "stdout",
     "output_type": "stream",
     "text": [
      "<class 'pandas.core.frame.DataFrame'>\n"
     ]
    },
    {
     "data": {
      "text/html": [
       "<div>\n",
       "<style scoped>\n",
       "    .dataframe tbody tr th:only-of-type {\n",
       "        vertical-align: middle;\n",
       "    }\n",
       "\n",
       "    .dataframe tbody tr th {\n",
       "        vertical-align: top;\n",
       "    }\n",
       "\n",
       "    .dataframe thead th {\n",
       "        text-align: right;\n",
       "    }\n",
       "</style>\n",
       "<table border=\"1\" class=\"dataframe\">\n",
       "  <thead>\n",
       "    <tr style=\"text-align: right;\">\n",
       "      <th></th>\n",
       "      <th>Open</th>\n",
       "      <th>High</th>\n",
       "      <th>Low</th>\n",
       "      <th>Close</th>\n",
       "      <th>Adj Close</th>\n",
       "      <th>Volume</th>\n",
       "    </tr>\n",
       "    <tr>\n",
       "      <th>Date</th>\n",
       "      <th></th>\n",
       "      <th></th>\n",
       "      <th></th>\n",
       "      <th></th>\n",
       "      <th></th>\n",
       "      <th></th>\n",
       "    </tr>\n",
       "  </thead>\n",
       "  <tbody>\n",
       "    <tr>\n",
       "      <th>1927-12-30</th>\n",
       "      <td>17.660000</td>\n",
       "      <td>17.660000</td>\n",
       "      <td>17.660000</td>\n",
       "      <td>17.660000</td>\n",
       "      <td>17.660000</td>\n",
       "      <td>0</td>\n",
       "    </tr>\n",
       "    <tr>\n",
       "      <th>1928-01-03</th>\n",
       "      <td>17.760000</td>\n",
       "      <td>17.760000</td>\n",
       "      <td>17.760000</td>\n",
       "      <td>17.760000</td>\n",
       "      <td>17.760000</td>\n",
       "      <td>0</td>\n",
       "    </tr>\n",
       "    <tr>\n",
       "      <th>1928-01-04</th>\n",
       "      <td>17.719999</td>\n",
       "      <td>17.719999</td>\n",
       "      <td>17.719999</td>\n",
       "      <td>17.719999</td>\n",
       "      <td>17.719999</td>\n",
       "      <td>0</td>\n",
       "    </tr>\n",
       "    <tr>\n",
       "      <th>1928-01-05</th>\n",
       "      <td>17.549999</td>\n",
       "      <td>17.549999</td>\n",
       "      <td>17.549999</td>\n",
       "      <td>17.549999</td>\n",
       "      <td>17.549999</td>\n",
       "      <td>0</td>\n",
       "    </tr>\n",
       "    <tr>\n",
       "      <th>1928-01-06</th>\n",
       "      <td>17.660000</td>\n",
       "      <td>17.660000</td>\n",
       "      <td>17.660000</td>\n",
       "      <td>17.660000</td>\n",
       "      <td>17.660000</td>\n",
       "      <td>0</td>\n",
       "    </tr>\n",
       "    <tr>\n",
       "      <th>...</th>\n",
       "      <td>...</td>\n",
       "      <td>...</td>\n",
       "      <td>...</td>\n",
       "      <td>...</td>\n",
       "      <td>...</td>\n",
       "      <td>...</td>\n",
       "    </tr>\n",
       "    <tr>\n",
       "      <th>2019-12-24</th>\n",
       "      <td>3225.449951</td>\n",
       "      <td>3226.429932</td>\n",
       "      <td>3220.510010</td>\n",
       "      <td>3223.379883</td>\n",
       "      <td>3223.379883</td>\n",
       "      <td>1296540000</td>\n",
       "    </tr>\n",
       "    <tr>\n",
       "      <th>2019-12-26</th>\n",
       "      <td>3227.199951</td>\n",
       "      <td>3240.080078</td>\n",
       "      <td>3227.199951</td>\n",
       "      <td>3239.909912</td>\n",
       "      <td>3239.909912</td>\n",
       "      <td>2160680000</td>\n",
       "    </tr>\n",
       "    <tr>\n",
       "      <th>2019-12-27</th>\n",
       "      <td>3247.229980</td>\n",
       "      <td>3247.929932</td>\n",
       "      <td>3234.370117</td>\n",
       "      <td>3240.020020</td>\n",
       "      <td>3240.020020</td>\n",
       "      <td>2428670000</td>\n",
       "    </tr>\n",
       "    <tr>\n",
       "      <th>2019-12-30</th>\n",
       "      <td>3240.090088</td>\n",
       "      <td>3240.919922</td>\n",
       "      <td>3216.570068</td>\n",
       "      <td>3221.290039</td>\n",
       "      <td>3221.290039</td>\n",
       "      <td>3013290000</td>\n",
       "    </tr>\n",
       "    <tr>\n",
       "      <th>2019-12-31</th>\n",
       "      <td>3215.179932</td>\n",
       "      <td>3231.719971</td>\n",
       "      <td>3212.030029</td>\n",
       "      <td>3230.780029</td>\n",
       "      <td>3230.780029</td>\n",
       "      <td>2893810000</td>\n",
       "    </tr>\n",
       "  </tbody>\n",
       "</table>\n",
       "<p>23109 rows × 6 columns</p>\n",
       "</div>"
      ],
      "text/plain": [
       "                   Open         High          Low        Close    Adj Close  \\\n",
       "Date                                                                          \n",
       "1927-12-30    17.660000    17.660000    17.660000    17.660000    17.660000   \n",
       "1928-01-03    17.760000    17.760000    17.760000    17.760000    17.760000   \n",
       "1928-01-04    17.719999    17.719999    17.719999    17.719999    17.719999   \n",
       "1928-01-05    17.549999    17.549999    17.549999    17.549999    17.549999   \n",
       "1928-01-06    17.660000    17.660000    17.660000    17.660000    17.660000   \n",
       "...                 ...          ...          ...          ...          ...   \n",
       "2019-12-24  3225.449951  3226.429932  3220.510010  3223.379883  3223.379883   \n",
       "2019-12-26  3227.199951  3240.080078  3227.199951  3239.909912  3239.909912   \n",
       "2019-12-27  3247.229980  3247.929932  3234.370117  3240.020020  3240.020020   \n",
       "2019-12-30  3240.090088  3240.919922  3216.570068  3221.290039  3221.290039   \n",
       "2019-12-31  3215.179932  3231.719971  3212.030029  3230.780029  3230.780029   \n",
       "\n",
       "                Volume  \n",
       "Date                    \n",
       "1927-12-30           0  \n",
       "1928-01-03           0  \n",
       "1928-01-04           0  \n",
       "1928-01-05           0  \n",
       "1928-01-06           0  \n",
       "...                ...  \n",
       "2019-12-24  1296540000  \n",
       "2019-12-26  2160680000  \n",
       "2019-12-27  2428670000  \n",
       "2019-12-30  3013290000  \n",
       "2019-12-31  2893810000  \n",
       "\n",
       "[23109 rows x 6 columns]"
      ]
     },
     "execution_count": 11,
     "metadata": {},
     "output_type": "execute_result"
    }
   ],
   "source": [
    "rawSP = pd.read_csv(\"../mock_data/GSPC.csv\", sep=',', index_col=\"Date\", header=0, parse_dates=True)\n",
    "print(type(rawSP))\n",
    "rawSP"
   ]
  },
  {
   "cell_type": "code",
   "execution_count": 14,
   "metadata": {},
   "outputs": [
    {
     "name": "stdout",
     "output_type": "stream",
     "text": [
      "<class 'pandas.core.series.Series'>\n"
     ]
    },
    {
     "data": {
      "text/plain": [
       "Date\n",
       "1927-12-30      17.660000\n",
       "1928-01-03      17.760000\n",
       "1928-01-04      17.719999\n",
       "1928-01-05      17.549999\n",
       "1928-01-06      17.660000\n",
       "                 ...     \n",
       "2019-12-24    3223.379883\n",
       "2019-12-26    3239.909912\n",
       "2019-12-27    3240.020020\n",
       "2019-12-30    3221.290039\n",
       "2019-12-31    3230.780029\n",
       "Name: Close, Length: 23109, dtype: float64"
      ]
     },
     "execution_count": 14,
     "metadata": {},
     "output_type": "execute_result"
    }
   ],
   "source": [
    "SP_close = rawSP['Close']\n",
    "print(type(SP_close))\n",
    "SP_close"
   ]
  },
  {
   "cell_type": "code",
   "execution_count": 16,
   "metadata": {},
   "outputs": [
    {
     "data": {
      "text/plain": [
       "DatetimeIndex(['1927-12-30', '1928-01-03', '1928-01-04', '1928-01-05',\n",
       "               '1928-01-06', '1928-01-09', '1928-01-10', '1928-01-11',\n",
       "               '1928-01-12', '1928-01-13',\n",
       "               ...\n",
       "               '2019-12-17', '2019-12-18', '2019-12-19', '2019-12-20',\n",
       "               '2019-12-23', '2019-12-24', '2019-12-26', '2019-12-27',\n",
       "               '2019-12-30', '2019-12-31'],\n",
       "              dtype='datetime64[ns]', name='Date', length=23109, freq=None)"
      ]
     },
     "execution_count": 16,
     "metadata": {},
     "output_type": "execute_result"
    }
   ],
   "source": [
    "SP_close.index"
   ]
  },
  {
   "cell_type": "code",
   "execution_count": 18,
   "metadata": {},
   "outputs": [
    {
     "data": {
      "text/plain": [
       "<Axes: xlabel='Date'>"
      ]
     },
     "execution_count": 18,
     "metadata": {},
     "output_type": "execute_result"
    },
    {
     "data": {
      "image/png": "[encoded data removed]",
      "text/plain": [
       "<Figure size 640x480 with 1 Axes>"
      ]
     },
     "metadata": {},
     "output_type": "display_data"
    }
   ],
   "source": [
    "SP_close.plot()"
   ]
  },
  {
   "cell_type": "code",
   "execution_count": 24,
   "metadata": {},
   "outputs": [
    {
     "data": {
      "text/plain": [
       "1089.410034"
      ]
     },
     "execution_count": 24,
     "metadata": {},
     "output_type": "execute_result"
    }
   ],
   "source": [
    "SP_close[\"2010-05-28\"]"
   ]
  },
  {
   "cell_type": "code",
   "execution_count": 30,
   "metadata": {},
   "outputs": [
    {
     "name": "stdout",
     "output_type": "stream",
     "text": [
      "<class 'pandas.core.series.Series'>\n",
      "Date\n",
      "1940-01-02    12.630000\n",
      "1940-01-03    12.770000\n",
      "1940-01-04    12.730000\n",
      "1940-01-05    12.660000\n",
      "1940-01-08    12.670000\n",
      "                ...    \n",
      "1949-12-23    16.639999\n",
      "1949-12-27    16.580000\n",
      "1949-12-28    16.660000\n",
      "1949-12-29    16.680000\n",
      "1949-12-30    16.790001\n",
      "Name: Close, Length: 2500, dtype: float64\n"
     ]
    },
    {
     "data": {
      "text/plain": [
       "<Axes: xlabel='Date'>"
      ]
     },
     "execution_count": 30,
     "metadata": {},
     "output_type": "execute_result"
    },
    {
     "data": {
      "image/png": "[encoded data removed]",
      "text/plain": [
       "<Figure size 640x480 with 1 Axes>"
      ]
     },
     "metadata": {},
     "output_type": "display_data"
    }
   ],
   "source": [
    "SP_close_40s = SP_close[\"1940-01-01\":\"1949-12-31\"]\n",
    "print(type(SP_close_40s))\n",
    "print(SP_close_40s)\n",
    "SP_close_40s.plot()"
   ]
  },
  {
   "cell_type": "code",
   "execution_count": 46,
   "metadata": {},
   "outputs": [
    {
     "name": "stdout",
     "output_type": "stream",
     "text": [
      "Date\n",
      "1927-12-30    17.660000\n",
      "1928-01-03    17.760000\n",
      "1928-01-04    17.719999\n",
      "Name: Close, dtype: float64\n",
      "Date\n",
      "1927-12-30      NaN\n",
      "1928-01-03    17.66\n",
      "1928-01-04    17.76\n",
      "Name: Close, dtype: float64\n",
      "Date\n",
      "1927-12-30         NaN\n",
      "1928-01-03    0.564654\n",
      "1928-01-04   -0.225485\n",
      "1928-01-05   -0.964000\n",
      "1928-01-06    0.624830\n",
      "                ...   \n",
      "2019-12-24   -0.019547\n",
      "2019-12-26    0.511506\n",
      "2019-12-27    0.003398\n",
      "2019-12-30   -0.579760\n",
      "2019-12-31    0.294169\n",
      "Name: Close, Length: 23109, dtype: float64\n"
     ]
    },
    {
     "data": {
      "text/plain": [
       "<Axes: xlabel='Date'>"
      ]
     },
     "execution_count": 46,
     "metadata": {},
     "output_type": "execute_result"
    },
    {
     "data": {
      "image/png": "[encoded data removed]",
      "text/plain": [
       "<Figure size 640x480 with 1 Axes>"
      ]
     },
     "metadata": {},
     "output_type": "display_data"
    }
   ],
   "source": [
    "# shift function\n",
    "print(SP_close[:3])\n",
    "print(SP_close.shift()[:3])\n",
    "\n",
    "SP_returns = np.log(SP_close/SP_close.shift()) * 100\n",
    "print(SP_returns)\n",
    "SP_returns.plot()"
   ]
  },
  {
   "cell_type": "code",
   "execution_count": null,
   "metadata": {},
   "outputs": [],
   "source": []
  }
 ],
 "metadata": {
  "kernelspec": {
   "display_name": ".venv",
   "language": "python",
   "name": "python3"
  },
  "language_info": {
   "codemirror_mode": {
    "name": "ipython",
    "version": 3
   },
   "file_extension": ".py",
   "mimetype": "text/x-python",
   "name": "python",
   "nbconvert_exporter": "python",
   "pygments_lexer": "ipython3",
   "version": "3.12.3"
  }
 },
 "nbformat": 4,
 "nbformat_minor": 2
}
