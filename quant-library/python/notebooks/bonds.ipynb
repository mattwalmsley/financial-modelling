{
 "cells": [
  {
   "cell_type": "code",
   "execution_count": 1,
   "metadata": {},
   "outputs": [
    {
     "ename": "AttributeError",
     "evalue": "module 'path' has no attribute 'path'",
     "output_type": "error",
     "traceback": [
      "\u001b[0;31m---------------------------------------------------------------------------\u001b[0m",
      "\u001b[0;31mAttributeError\u001b[0m                            Traceback (most recent call last)",
      "\u001b[1;32m/home/matt/git-local/financial-modelling/quant-library/python/notebooks/bonds.ipynb Cell 1\u001b[0m in \u001b[0;36m<cell line: 5>\u001b[0;34m()\u001b[0m\n\u001b[1;32m      <a href='vscode-notebook-cell:/home/matt/git-local/financial-modelling/quant-library/python/notebooks/bonds.ipynb#W0sZmlsZQ%3D%3D?line=1'>2</a>\u001b[0m \u001b[39mimport\u001b[39;00m \u001b[39msys\u001b[39;00m\n\u001b[1;32m      <a href='vscode-notebook-cell:/home/matt/git-local/financial-modelling/quant-library/python/notebooks/bonds.ipynb#W0sZmlsZQ%3D%3D?line=3'>4</a>\u001b[0m \u001b[39m# directory reach\u001b[39;00m\n\u001b[0;32m----> <a href='vscode-notebook-cell:/home/matt/git-local/financial-modelling/quant-library/python/notebooks/bonds.ipynb#W0sZmlsZQ%3D%3D?line=4'>5</a>\u001b[0m directory \u001b[39m=\u001b[39m path\u001b[39m.\u001b[39;49mpath(\u001b[39m__file__\u001b[39m)\u001b[39m.\u001b[39mabspath()\n\u001b[1;32m      <a href='vscode-notebook-cell:/home/matt/git-local/financial-modelling/quant-library/python/notebooks/bonds.ipynb#W0sZmlsZQ%3D%3D?line=6'>7</a>\u001b[0m \u001b[39m# setting path\u001b[39;00m\n\u001b[1;32m      <a href='vscode-notebook-cell:/home/matt/git-local/financial-modelling/quant-library/python/notebooks/bonds.ipynb#W0sZmlsZQ%3D%3D?line=7'>8</a>\u001b[0m sys\u001b[39m.\u001b[39mpath\u001b[39m.\u001b[39mappend(directory\u001b[39m.\u001b[39mparent\u001b[39m.\u001b[39mparent)\n",
      "\u001b[0;31mAttributeError\u001b[0m: module 'path' has no attribute 'path'"
     ]
    }
   ],
   "source": [
    "\n"
   ]
  }
 ],
 "metadata": {
  "kernelspec": {
   "display_name": "Python 3.10.6 ('.venv': venv)",
   "language": "python",
   "name": "python3"
  },
  "language_info": {
   "codemirror_mode": {
    "name": "ipython",
    "version": 3
   },
   "file_extension": ".py",
   "mimetype": "text/x-python",
   "name": "python",
   "nbconvert_exporter": "python",
   "pygments_lexer": "ipython3",
   "version": "3.10.6"
  },
  "orig_nbformat": 4,
  "vscode": {
   "interpreter": {
    "hash": "f4bdf3fde39fe8499815797ea059349de1fd6c3cd87a574398a621d03f33abdf"
   }
  }
 },
 "nbformat": 4,
 "nbformat_minor": 2
}
