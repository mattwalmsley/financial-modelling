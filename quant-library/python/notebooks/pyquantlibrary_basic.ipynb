{
 "cells": [
  {
   "cell_type": "markdown",
   "metadata": {},
   "source": [
    "# pyQuantLibrary\n",
    "\n",
    "Library built in C++ and exposed via Boost to python."
   ]
  },
  {
   "cell_type": "code",
   "execution_count": 2,
   "metadata": {},
   "outputs": [],
   "source": [
    "import sys\n",
    "import pathlib\n",
    "import importlib\n",
    "\n",
    "# Add the build directory to the sys.path\n",
    "parent_path = pathlib.Path().resolve().parent.parent\n",
    "library_path = f'{parent_path}/QuantLibrary/cmake-build-debug/'\n",
    "sys.path.append(library_path)\n",
    "\n",
    "pql = importlib.import_module('pyquantlibrary')"
   ]
  },
  {
   "cell_type": "code",
   "execution_count": 3,
   "metadata": {},
   "outputs": [
    {
     "name": "stdout",
     "output_type": "stream",
     "text": [
      "100.0 1.0 50.0\n",
      "Option Price: 0.002399417553308053\n"
     ]
    }
   ],
   "source": [
    "# Create an instance of the Option class\n",
    "option = pql.Option(100.0, 1.0, 50.0)\n",
    "\n",
    "# Access methods from Option\n",
    "strike_price = option.getStrikePrice()\n",
    "expiration_time = option.getExpirationTime()\n",
    "underlying_price = option.getUnderlyingPrice()\n",
    "\n",
    "print(strike_price, expiration_time, underlying_price)\n",
    "\n",
    "# Create an instance of the BlackScholesModel class\n",
    "bs_model = pql.BlackScholesModel()\n",
    "\n",
    "# Calculate the price of an option using Black-Scholes\n",
    "price = bs_model.calculatePrice(option)\n",
    "print(f\"Option Price: {price}\")"
   ]
  },
  {
   "cell_type": "code",
   "execution_count": null,
   "metadata": {},
   "outputs": [],
   "source": []
  }
 ],
 "metadata": {
  "kernelspec": {
   "display_name": ".venv",
   "language": "python",
   "name": "python3"
  },
  "language_info": {
   "codemirror_mode": {
    "name": "ipython",
    "version": 3
   },
   "file_extension": ".py",
   "mimetype": "text/x-python",
   "name": "python",
   "nbconvert_exporter": "python",
   "pygments_lexer": "ipython3",
   "version": "3.10.12"
  }
 },
 "nbformat": 4,
 "nbformat_minor": 2
}
