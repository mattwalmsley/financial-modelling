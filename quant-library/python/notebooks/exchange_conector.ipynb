{
 "cells": [
  {
   "cell_type": "markdown",
   "metadata": {},
   "source": [
    "# Mock Exchange Feed Connector\n",
    "Run mock_feed from mock-exchange-feed C++ project."
   ]
  },
  {
   "cell_type": "code",
   "execution_count": null,
   "metadata": {},
   "outputs": [],
   "source": [
    "import zmq"
   ]
  },
  {
   "cell_type": "code",
   "execution_count": null,
   "metadata": {},
   "outputs": [],
   "source": [
    "\n",
    "\n",
    "# Prepare the context and subscriber socket\n",
    "context = zmq.Context()\n",
    "subscriber = context.socket(zmq.SUB)\n",
    "\n",
    "# Connect to the publisher on port 5555\n",
    "subscriber.connect(\"tcp://localhost:5555\")\n",
    "\n",
    "# Subscribe to all messages\n",
    "subscriber.setsockopt_string(zmq.SUBSCRIBE, \"\")\n",
    "\n",
    "while True:\n",
    "    message = subscriber.recv_string()\n",
    "    print(f\"Received: {message}\")\n"
   ]
  }
 ],
 "metadata": {
  "kernelspec": {
   "display_name": ".venv",
   "language": "python",
   "name": "python3"
  },
  "language_info": {
   "codemirror_mode": {
    "name": "ipython",
    "version": 3
   },
   "file_extension": ".py",
   "mimetype": "text/x-python",
   "name": "python",
   "nbconvert_exporter": "python",
   "pygments_lexer": "ipython3",
   "version": "3.10.12"
  }
 },
 "nbformat": 4,
 "nbformat_minor": 2
}
