{
 "cells": [
  {
   "cell_type": "markdown",
   "metadata": {},
   "source": [
    "# Simple Python Model"
   ]
  },
  {
   "cell_type": "markdown",
   "metadata": {},
   "source": [
    "## Retirement Problem\n",
    "Salary: $60,000 <br>\n",
    "Saving Rate: 25% <br>\n",
    "Interest Rate: 5% <br>\n",
    "Desired Retirement Cash: $1,500,000 <br>\n",
    "Calculate number of years until retirement."
   ]
  },
  {
   "cell_type": "code",
   "execution_count": null,
   "metadata": {},
   "outputs": [],
   "source": []
  }
 ],
 "metadata": {
  "kernelspec": {
   "display_name": "Python 3.10.4 ('.venv': venv)",
   "language": "python",
   "name": "python3"
  },
  "language_info": {
   "codemirror_mode": {
    "name": "ipython",
    "version": 3
   },
   "file_extension": ".py",
   "mimetype": "text/x-python",
   "name": "python",
   "nbconvert_exporter": "python",
   "pygments_lexer": "ipython3",
   "version": "3.10.4"
  },
  "orig_nbformat": 4,
  "vscode": {
   "interpreter": {
    "hash": "8ce811b3401a44d73ca7559fa0fca7311cb0bd1508298682ccd50a31fcad2793"
   }
  }
 },
 "nbformat": 4,
 "nbformat_minor": 2
}
