{
 "cells": [
  {
   "cell_type": "markdown",
   "metadata": {},
   "source": [
    "# Simple Python Model"
   ]
  },
  {
   "cell_type": "markdown",
   "metadata": {},
   "source": [
    "## Retirement Problem\n",
    "Salary: $60,000 <br>\n",
    "Saving Rate: 25% <br>\n",
    "Interest Rate: 5% <br>\n",
    "Desired Retirement Cash: $1,500,000 <br>\n",
    "Calculate number of years until retirement."
   ]
  },
  {
   "cell_type": "code",
   "execution_count": 2,
   "metadata": {},
   "outputs": [],
   "source": [
    "salary = 60000\n",
    "savings_rate = 0.25\n",
    "investment_rates = [0.05, 0.06, 0.07]\n",
    "desired_cash = 1500000"
   ]
  },
  {
   "cell_type": "markdown",
   "metadata": {},
   "source": [
    "### Determining cash saved"
   ]
  },
  {
   "cell_type": "code",
   "execution_count": 3,
   "metadata": {},
   "outputs": [
    {
     "data": {
      "text/plain": [
       "'Annual cash: 15000.0'"
      ]
     },
     "execution_count": 3,
     "metadata": {},
     "output_type": "execute_result"
    }
   ],
   "source": [
    "annual_cash = salary * savings_rate\n",
    "f\"Annual cash: {annual_cash}\""
   ]
  },
  {
   "cell_type": "markdown",
   "metadata": {},
   "source": [
    "### Years to retirement"
   ]
  },
  {
   "cell_type": "code",
   "execution_count": 4,
   "metadata": {},
   "outputs": [
    {
     "name": "stdout",
     "output_type": "stream",
     "text": [
      "Years to retirement: 36.7\n",
      "Years to retirement: 33.4\n",
      "Years to retirement: 30.7\n"
     ]
    }
   ],
   "source": [
    "import numpy as np\n",
    "import numpy_financial as npf\n",
    "for investment_rate in investment_rates:\n",
    "    years_to_retirement =  npf.nper(investment_rate, -annual_cash, 0, desired_cash)\n",
    "    print(f\"Years to retirement: {years_to_retirement:.1f}\")"
   ]
  },
  {
   "cell_type": "markdown",
   "metadata": {},
   "source": [
    "# Notes\n",
    "[Common string operations](https://docs.python.org/3/library/string.html#formatspec)"
   ]
  }
 ],
 "metadata": {
  "kernelspec": {
   "display_name": "Python 3.10.6 ('.venv': venv)",
   "language": "python",
   "name": "python3"
  },
  "language_info": {
   "codemirror_mode": {
    "name": "ipython",
    "version": 3
   },
   "file_extension": ".py",
   "mimetype": "text/x-python",
   "name": "python",
   "nbconvert_exporter": "python",
   "pygments_lexer": "ipython3",
   "version": "3.10.6"
  },
  "orig_nbformat": 4,
  "vscode": {
   "interpreter": {
    "hash": "f4bdf3fde39fe8499815797ea059349de1fd6c3cd87a574398a621d03f33abdf"
   }
  }
 },
 "nbformat": 4,
 "nbformat_minor": 2
}
